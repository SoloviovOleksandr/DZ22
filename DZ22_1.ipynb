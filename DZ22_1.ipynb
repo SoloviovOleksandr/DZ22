{
  "metadata": {
    "language_info": {
      "codemirror_mode": {
        "name": "python",
        "version": 3
      },
      "file_extension": ".py",
      "mimetype": "text/x-python",
      "name": "python",
      "nbconvert_exporter": "python",
      "pygments_lexer": "ipython3",
      "version": "3.8"
    },
    "kernelspec": {
      "name": "python",
      "display_name": "Python (Pyodide)",
      "language": "python"
    }
  },
  "nbformat_minor": 4,
  "nbformat": 4,
  "cells": [
    {
      "cell_type": "code",
      "source": "group = 37\nmath = 15\nphysics = 16\nchemistry = 19",
      "metadata": {
        "trusted": true
      },
      "execution_count": 3,
      "outputs": []
    },
    {
      "cell_type": "code",
      "source": "#2 res\nm_p_c = 4\nm_p = 7 - m_p_c\nm_c = 9 - m_p_c\np_c = 6 - m_p_c\n\nstudents_2_res = m_p + m_c + p_c\nprint(students_2_res)",
      "metadata": {
        "trusted": true
      },
      "execution_count": 4,
      "outputs": [
        {
          "name": "stdout",
          "text": "10\n",
          "output_type": "stream"
        }
      ]
    },
    {
      "cell_type": "code",
      "source": "#1 res\nmath_only = math - m_p - m_c - m_p_c\nprint(math_only)\nphysics_only = physics - p_c - m_p - m_p_c\nprint(physics_only)\nchemistry_only = chemistry - p_c - m_c - m_p_c\nprint(chemistry_only)\n\nstudents_1_res = math_only + physics_only + chemistry_only\nprint(students_1_res)",
      "metadata": {
        "trusted": true
      },
      "execution_count": 6,
      "outputs": [
        {
          "name": "stdout",
          "text": "3\n7\n8\n18\n",
          "output_type": "stream"
        }
      ]
    },
    {
      "cell_type": "code",
      "source": "#0 res\nstudents_0 = group - m_p_c - students_1_res - students_2_res\nprint(students_0)",
      "metadata": {
        "trusted": true
      },
      "execution_count": 7,
      "outputs": [
        {
          "name": "stdout",
          "text": "5\n",
          "output_type": "stream"
        }
      ]
    },
    {
      "cell_type": "code",
      "source": "",
      "metadata": {},
      "execution_count": null,
      "outputs": []
    }
  ]
}